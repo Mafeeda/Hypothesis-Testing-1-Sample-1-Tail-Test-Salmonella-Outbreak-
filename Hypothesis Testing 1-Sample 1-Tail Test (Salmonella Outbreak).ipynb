{
 "cells": [
  {
   "cell_type": "code",
   "execution_count": 1,
   "id": "aa2a29f7",
   "metadata": {},
   "outputs": [],
   "source": [
    "### Note: This python code states both 1-sample 1-tail and 1-sample 2-tail codes"
   ]
  },
  {
   "cell_type": "code",
   "execution_count": 2,
   "id": "ead4bcf4",
   "metadata": {},
   "outputs": [],
   "source": [
    "import pandas as pd\n",
    "import numpy as np\n",
    "from scipy import stats\n",
    "from scipy.stats import norm"
   ]
  },
  {
   "cell_type": "code",
   "execution_count": 3,
   "id": "bb9ae585",
   "metadata": {},
   "outputs": [],
   "source": [
    "μ = 0.3\n",
    "array = pd.Series([0.593,0.142,0.329,0.691,0.231,0.793,0.519,0.392,0.418])"
   ]
  },
  {
   "cell_type": "markdown",
   "id": "bcdb5fa9",
   "metadata": {},
   "source": [
    "### 1-sample 1-tail ttest Assume Null Hypothesis Ho as Mean Salmonella <= 0.3 \n",
    "#### Thus Alternate Hypothesis Ha as Mean Salmonella > 0.3"
   ]
  },
  {
   "cell_type": "code",
   "execution_count": 4,
   "id": "55157611",
   "metadata": {},
   "outputs": [],
   "source": [
    "# As No direct code for 1-sample 1-tail ttest available with unknown SD and arrays of means\n",
    "# Hence we find probability using 1-sample 2-tail ttest and divide it by 2 to get 1-tail ttest"
   ]
  },
  {
   "cell_type": "code",
   "execution_count": 5,
   "id": "5732b10b",
   "metadata": {},
   "outputs": [
    {
     "data": {
      "text/plain": [
       "Ttest_1sampResult(statistic=2.2050588385131595, pvalue=0.05853032968489765)"
      ]
     },
     "execution_count": 5,
     "metadata": {},
     "output_type": "execute_result"
    }
   ],
   "source": [
    "# 1-sample 2-tail ttest:   stats.ttest_1samp(array,μ)   \n",
    "p_value=stats.ttest_1samp(array,0.3)\n",
    "p_value"
   ]
  },
  {
   "cell_type": "code",
   "execution_count": 6,
   "id": "189ea751",
   "metadata": {},
   "outputs": [
    {
     "data": {
      "text/plain": [
       "0.05853032968489765"
      ]
     },
     "execution_count": 6,
     "metadata": {},
     "output_type": "execute_result"
    }
   ],
   "source": [
    "p_2t=p_value[1]\n",
    "p_2t            # 2-tail probability"
   ]
  },
  {
   "cell_type": "code",
   "execution_count": 7,
   "id": "0378bfb0",
   "metadata": {},
   "outputs": [
    {
     "data": {
      "text/plain": [
       "0.029265164842448826"
      ]
     },
     "execution_count": 7,
     "metadata": {},
     "output_type": "execute_result"
    }
   ],
   "source": [
    "p_1t=p_2t/2     # 1-tail probability\n",
    "p_1t            # compare this value with α = 0.05"
   ]
  },
  {
   "cell_type": "markdown",
   "id": "7be026d7",
   "metadata": {},
   "source": [
    "### Inference: Since (p_1t = 0.029) < (α = 0.05); Reject Null Hypothesis i.e Mean Salmonella > 0.3 Ice-cream factory responsible for people illness."
   ]
  },
  {
   "cell_type": "code",
   "execution_count": null,
   "id": "8a2ba0c6",
   "metadata": {},
   "outputs": [],
   "source": []
  }
 ],
 "metadata": {
  "kernelspec": {
   "display_name": "Python 3",
   "language": "python",
   "name": "python3"
  },
  "language_info": {
   "codemirror_mode": {
    "name": "ipython",
    "version": 3
   },
   "file_extension": ".py",
   "mimetype": "text/x-python",
   "name": "python",
   "nbconvert_exporter": "python",
   "pygments_lexer": "ipython3",
   "version": "3.8.8"
  }
 },
 "nbformat": 4,
 "nbformat_minor": 5
}
